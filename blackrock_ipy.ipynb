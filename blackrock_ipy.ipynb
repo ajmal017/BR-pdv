{
 "cells": [
  {
   "cell_type": "code",
   "execution_count": null,
   "metadata": {},
   "outputs": [],
   "source": [
    "%load portfolio.py"
   ]
  },
  {
   "cell_type": "code",
   "execution_count": null,
   "metadata": {},
   "outputs": [],
   "source": [
    "import matplotlib.pyplot as plt\n",
    "import requests\n",
    "\n",
    "\n",
    "#available attributes to compare: country, currency, exchangeAcronym, issFtse1Industry, issFtse3Sector\n",
    "attr = 'currency'\n",
    "\n",
    "#change below to use different stocks in lookup\n",
    "porf = [\"aapl\", 'MsFt', 'RKUNY']\n",
    "\n",
    "counts = Portfolio(porf).get_counts(attr)\n",
    "print(counts)\n",
    "\n",
    "\n",
    "labels = tuple(counts)\n",
    "explode = [0] * len(counts)\n",
    "\n",
    "fig1, ax1 = plt.subplots()\n",
    "ax1.pie(list(counts.values()), explode=explode, labels=labels, autopct='%1.1f%%',\n",
    "        shadow=True, startangle=90)\n",
    "ax1.axis('equal')  # Equal aspect ratio ensures that pie is drawn as a circle.\n",
    "\n",
    "plt.show()"
   ]
  }
 ],
 "metadata": {
  "kernelspec": {
   "display_name": "Python 3",
   "language": "python",
   "name": "python3"
  },
  "language_info": {
   "codemirror_mode": {
    "name": "ipython",
    "version": 3
   },
   "file_extension": ".py",
   "mimetype": "text/x-python",
   "name": "python",
   "nbconvert_exporter": "python",
   "pygments_lexer": "ipython3",
   "version": "3.7.3"
  }
 },
 "nbformat": 4,
 "nbformat_minor": 2
}
