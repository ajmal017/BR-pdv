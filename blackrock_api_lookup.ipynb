{
 "cells": [
  {
   "cell_type": "code",
   "execution_count": 31,
   "metadata": {},
   "outputs": [
    {
     "name": "stdout",
     "output_type": "stream",
     "text": [
      "{'USD': 3}\n"
     ]
    },
    {
     "data": {
      "image/png": "[encoded data removed]",
      "text/plain": [
       "<Figure size 432x288 with 1 Axes>"
      ]
     },
     "metadata": {},
     "output_type": "display_data"
    }
   ],
   "source": [
    "import matplotlib.pyplot as plt\n",
    "import requests\n",
    "\n",
    "\n",
    "class Portfolio():\n",
    "    \"\"\"docstring for Portfolio.\n",
    "        Instance vars:\n",
    "        params - passed into the API requests\n",
    "        p - a json of the portfolio\n",
    "        p_stocks - the list of stocks in the portfolio, and which ones are\n",
    "        num_tickers - len(tickers)\n",
    "     \"\"\"\n",
    "\n",
    "    def __init__(self, tickers_list):\n",
    "        \"\"\"\n",
    "        tickers is a list of strings, each string being a ticker\n",
    "        \"\"\"\n",
    "        # take list of tickers and convert into a string that can be passed into the API\n",
    "        # end result example: \"ticker:AAPL,ticker:MSFT,ticker:RKUNY\"\n",
    "        self.num_tickers = len(tickers_list)\n",
    "\n",
    "        self.params = ''\n",
    "        for ticker in tickers_list:\n",
    "            self.params += \"ticker:{},\".format(ticker.upper())\n",
    "        self.params = self.params[:-1]  # cut off the last comma\n",
    "\n",
    "        portfolioAnalysisRequest = requests.get(\n",
    "            \"https://www.blackrock.com/tools/hackathon/security-data\", params={'identifiers': self.params})\n",
    "        self.p = portfolioAnalysisRequest.json  # get as json object\n",
    "        self.p_stocks = (self.p)()['resultMap'][\"SECURITY\"][:self.num_tickers] # cut off to take care of \"duplicate\" stocks that share the same ticker\n",
    "\n",
    "    def get_counts(self, attr_string):\n",
    "        \"\"\"\n",
    "        returns dictionary: {Security Attribute: Count}\n",
    "        Security attribute is stuff like country, currency, etc\n",
    "        country, currency, exchangeAcronym, issFtse1Industry, issFtse3Sector\n",
    "        \"\"\"\n",
    "\n",
    "        a_counts = {}\n",
    "        for stock in self.p_stocks:\n",
    "            c = stock[attr_string]\n",
    "            a_counts[c] = 1 + a_counts.get(c, 0)\n",
    "        return a_counts\n",
    "\n",
    "#available attributes to compare: country, currency, exchangeAcronym, issFtse1Industry, issFtse3Sector\n",
    "attr = 'currency'\n",
    "\n",
    "#change below to use different stocks in lookup\n",
    "portfolio = [\"aapl\", 'MsFt', 'RKUNY']\n",
    "\n",
    "counts = Portfolio(portfolio).get_counts(attr)\n",
    "print(counts)\n",
    "\n",
    "\n",
    "labels = tuple(counts)\n",
    "explode = [0] * len(counts)\n",
    "\n",
    "fig1, ax1 = plt.subplots()\n",
    "ax1.pie(list(counts.values()), explode=explode, labels=labels, autopct='%1.1f%%',\n",
    "        shadow=True, startangle=90)\n",
    "ax1.axis('equal')  # Equal aspect ratio ensures that pie is drawn as a circle.\n",
    "\n",
    "plt.show()"
   ]
  },
  {
   "cell_type": "code",
   "execution_count": null,
   "metadata": {},
   "outputs": [],
   "source": []
  }
 ],
 "metadata": {
  "kernelspec": {
   "display_name": "Python 3",
   "language": "python",
   "name": "python3"
  },
  "language_info": {
   "codemirror_mode": {
    "name": "ipython",
    "version": 3
   },
   "file_extension": ".py",
   "mimetype": "text/x-python",
   "name": "python",
   "nbconvert_exporter": "python",
   "pygments_lexer": "ipython3",
   "version": "3.7.3"
  }
 },
 "nbformat": 4,
 "nbformat_minor": 2
}
