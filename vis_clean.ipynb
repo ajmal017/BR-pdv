{
 "cells": [
  {
   "cell_type": "code",
   "execution_count": null,
   "metadata": {},
   "outputs": [],
   "source": [
    "import matplotlib.pyplot as plt\n",
    "from vis import *\n",
    "%matplotlib inline\n",
    "\n",
    "#Stonks: A list of the Investments in your portfolio\n",
    "#Worths: FILL ME OUT\n",
    "#Attr: the security data attribute you want to examine diversity of\n",
    "stonks = [\"aapl\", 'MsFt', 'RKUNY'] \n",
    "worths = [1000, 500, 1200]\n",
    "attr = \"country\"\n",
    "\n",
    "vis_pie(Portfolio(stonks, worths), attr)"
   ]
  },
  {
   "cell_type": "code",
   "execution_count": null,
   "metadata": {},
   "outputs": [],
   "source": []
  }
 ],
 "metadata": {
  "kernelspec": {
   "display_name": "Python 3",
   "language": "python",
   "name": "python3"
  },
  "language_info": {
   "codemirror_mode": {
    "name": "ipython",
    "version": 3
   },
   "file_extension": ".py",
   "mimetype": "text/x-python",
   "name": "python",
   "nbconvert_exporter": "python",
   "pygments_lexer": "ipython3",
   "version": "3.7.3"
  }
 },
 "nbformat": 4,
 "nbformat_minor": 2
}
