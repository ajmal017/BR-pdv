{
 "cells": [
  {
   "cell_type": "code",
   "execution_count": null,
   "metadata": {},
   "outputs": [],
   "source": [
    "import matplotlib.pyplot as plt\n",
    "from vis import *\n",
    "%matplotlib inline\n",
    "\"\"\"\n",
    "Secs: A list of the securities in your portfolio\n",
    "Worths: The $ worth in the portfolio for each respective security     *Can be left empty\n",
    "Attr: The security data attribute you want to examine\n",
    "\n",
    "Example: \n",
    "secs = [\"aapl\", 'MsFt', 'RKUNY'] \n",
    "worths = [1000, 500, 1200]\n",
    "attr = \"issFtse3Sector\"\n",
    "\n",
    "Suggested Attributes: \n",
    "country, currency, exchangeAcronym, issFtse1Industry, issFtse3Sector, assetType\n",
    "\"\"\"\n",
    "\n",
    "secs = [\"Fill me in\"]\n",
    "worths = [\"Fill me in\"]\n",
    "attr = \"Choose one\"\n",
    "\n",
    "vis_pie(Portfolio(secs, worths), attr)"
   ]
  },
  {
   "cell_type": "code",
   "execution_count": null,
   "metadata": {},
   "outputs": [],
   "source": []
  }
 ],
 "metadata": {
  "kernelspec": {
   "display_name": "Python 3",
   "language": "python",
   "name": "python3"
  },
  "language_info": {
   "codemirror_mode": {
    "name": "ipython",
    "version": 3
   },
   "file_extension": ".py",
   "mimetype": "text/x-python",
   "name": "python",
   "nbconvert_exporter": "python",
   "pygments_lexer": "ipython3",
   "version": "3.7.3"
  }
 },
 "nbformat": 4,
 "nbformat_minor": 2
}
